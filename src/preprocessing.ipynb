{
 "cells": [
  {
   "cell_type": "code",
   "execution_count": 1,
   "id": "medical-teach",
   "metadata": {},
   "outputs": [],
   "source": [
    "import os\n",
    "import shutil\n",
    "import random\n",
    "import time\n",
    "import math\n",
    "import cv2\n",
    "import re\n",
    "import matplotlib\n",
    "import matplotlib.pyplot as plt\n",
    "import numpy as np\n",
    "from collections import defaultdict, Counter\n",
    "from utils import show_image, parseBBOXFile, getTagValue"
   ]
  },
  {
   "cell_type": "code",
   "execution_count": 2,
   "id": "timely-ordinary",
   "metadata": {},
   "outputs": [],
   "source": [
    "%matplotlib inline"
   ]
  },
  {
   "cell_type": "code",
   "execution_count": 3,
   "id": "novel-custody",
   "metadata": {},
   "outputs": [],
   "source": [
    "def getImagesOfInterest(path):\n",
    "    \"\"\"Return a list of images + their respective xml bbox+labels file.\"\"\"\n",
    "    files = []\n",
    "    for filename in os.listdir(path):\n",
    "        f = '{}/{}.xml'.format(path, filename[:-4]) # Target file for obj. and bboxes.\n",
    "        if (not filename.endswith(\".jpg\")) or (not os.path.isfile(f)):\n",
    "            continue\n",
    "        files.append(filename[:-4].lower())\n",
    "    return files"
   ]
  },
  {
   "cell_type": "markdown",
   "id": "perceived-kennedy",
   "metadata": {},
   "source": [
    "Move raw images plus their respective xml/json bounding box + object files to train / test / valid"
   ]
  },
  {
   "cell_type": "code",
   "execution_count": 4,
   "id": "blank-boring",
   "metadata": {},
   "outputs": [
    {
     "data": {
      "text/plain": [
       "{'car': 0, 'truck': 1, 'bus': 2, 'person': 3, 'bike': 4}"
      ]
     },
     "execution_count": 4,
     "metadata": {},
     "output_type": "execute_result"
    }
   ],
   "source": [
    "WEIGHT = {\n",
    "    'car': 0,\n",
    "    'truck': 1,\n",
    "    'bus': 2,\n",
    "    'person': 3,\n",
    "    'bike': 4,\n",
    "}\n",
    "\n",
    "def getWeightForLabel(lbl):\n",
    "    return (WEIGHT[lbl] if (lbl in WEIGHT) else -1)\n",
    "\n",
    "WEIGHT"
   ]
  },
  {
   "cell_type": "code",
   "execution_count": 5,
   "id": "dental-provincial",
   "metadata": {},
   "outputs": [],
   "source": [
    "def createTrainTestSplit(files, perc):\n",
    "    if (len(files) <= 1): # Special case.\n",
    "        print(len(files), '--->', len(files), 0)\n",
    "        return files, []\n",
    "    \n",
    "    random.shuffle(files)\n",
    "    items = int(len(files)*perc)\n",
    "    train = files[:items]\n",
    "    test = files[items:]\n",
    "    print(len(files), '--->', len(train), len(test))\n",
    "    return train, test\n",
    "    \n",
    "def createGroups(path):\n",
    "    grps = defaultdict(list)\n",
    "    for f in getImagesOfInterest(path):\n",
    "        labels = list(set([getTagValue(obj, 'name') for obj in parseBBOXFile('{}/{}.xml'.format(path, f))]))\n",
    "        if len(labels) == 0:\n",
    "            continue\n",
    "        labels.sort(key=lambda x: getWeightForLabel(x), reverse=True)\n",
    "        grps[labels[0]].append(f) # Add file to the highest priority label.\n",
    "    return grps\n",
    "\n",
    "def createDataSplit(out, path, perc=0.9):\n",
    "    train, test = [], [] # Output train and test files!\n",
    "    g = createGroups(path) # Split data into car, truck, bus, ... Guarantee that we train and test on all classes.\n",
    "    print('Group Distribution:', ', '.join(['{} {}'.format(k, len(v)) for k, v in g.items()]))\n",
    "    \n",
    "    for files in g.values(): # Now split each group into train and test.\n",
    "        train_split, test_split = createTrainTestSplit(files, perc)\n",
    "        train += train_split\n",
    "        test += test_split\n",
    "    \n",
    "    print(\"Finished train-test split, using\", perc, '% train and', 1-perc, 'test.')\n",
    "    folder = path.lower().replace('\\\\', '/').split('/')[-1]\n",
    "    train.sort()\n",
    "    test.sort()\n",
    "    \n",
    "    with open('../images/train/{}.txt'.format(out), 'w') as target:\n",
    "        for f in train:\n",
    "            target.write('{}/{}\\n'.format(folder, f))\n",
    "            \n",
    "    with open('../images/test/{}.txt'.format(out), 'w') as target:\n",
    "        for f in test:\n",
    "            target.write('{}/{}\\n'.format(folder, f))\n",
    "            \n",
    "    print(\"Wrote the train-test split files into train and test respectively.\")    "
   ]
  },
  {
   "cell_type": "code",
   "execution_count": 114,
   "id": "stone-strand",
   "metadata": {},
   "outputs": [
    {
     "name": "stdout",
     "output_type": "stream",
     "text": [
      "Group Distribution: car 490, truck 209, bus 72, bike 1\n",
      "490 ---> 441 49\n",
      "209 ---> 188 21\n",
      "72 ---> 64 8\n",
      "1 ---> 1 0\n",
      "Finished train-test split, using 0.9 % train and 0.09999999999999998 test.\n",
      "Wrote the train-test split files into train and test respectively.\n"
     ]
    }
   ],
   "source": [
    "#createDataSplit('raw', '../images/raw')"
   ]
  },
  {
   "cell_type": "code",
   "execution_count": 14,
   "id": "designed-perception",
   "metadata": {},
   "outputs": [
    {
     "name": "stdout",
     "output_type": "stream",
     "text": [
      "Group Distribution: person 954, bus 267, bike 535, car 520\n",
      "954 ---> 858 96\n",
      "267 ---> 240 27\n",
      "535 ---> 481 54\n",
      "520 ---> 468 52\n",
      "Finished train-test split, using 0.9 % train and 0.09999999999999998 test.\n",
      "Wrote the train-test split files into train and test respectively.\n"
     ]
    }
   ],
   "source": [
    "#createDataSplit('dark', '../images/dark')"
   ]
  },
  {
   "cell_type": "code",
   "execution_count": 6,
   "id": "operating-holmes",
   "metadata": {},
   "outputs": [
    {
     "name": "stdout",
     "output_type": "stream",
     "text": [
      "Group Distribution: person 713, truck 365, car 1533\n",
      "713 ---> 641 72\n",
      "365 ---> 328 37\n",
      "1533 ---> 1379 154\n",
      "Finished train-test split, using 0.9 % train and 0.09999999999999998 test.\n",
      "Wrote the train-test split files into train and test respectively.\n"
     ]
    }
   ],
   "source": [
    "#createDataSplit('kitti', '../images/kitti')"
   ]
  },
  {
   "cell_type": "markdown",
   "id": "posted-blast",
   "metadata": {},
   "source": [
    "Crop and save regions from images, based on respective XML file."
   ]
  },
  {
   "cell_type": "code",
   "execution_count": 6,
   "id": "statistical-cigarette",
   "metadata": {},
   "outputs": [],
   "source": [
    "def createFoldersForLabels():\n",
    "    for lbl in WEIGHT.keys():\n",
    "        try:\n",
    "            os.mkdir('../images/train/{}'.format(lbl))\n",
    "            os.mkdir('../images/test/{}'.format(lbl))\n",
    "        except Exception as e:\n",
    "            print('Err:', e)\n",
    "    \n",
    "def createImagesFromBBOX(path):\n",
    "    \"\"\"Load our train-test split files and extract bboxes (img objs.) from them and save as sep. imgs.\"\"\"\n",
    "    files = []\n",
    "    for filename in os.listdir('../images/{}'.format(path)):\n",
    "        if not filename.endswith('.txt'):\n",
    "            continue\n",
    "        with open('../images/{}/{}'.format(path, filename), 'r') as f:\n",
    "            files += [i.strip().lower() for i in f]\n",
    "    \n",
    "    for idx, f in enumerate(files):\n",
    "        jpg, xml = '../images/{}.jpg'.format(f), '../images/{}.xml'.format(f)\n",
    "        f = f.replace('\\\\', '/').replace('/', '_').strip()\n",
    "        img = cv2.imread(jpg, cv2.IMREAD_COLOR)\n",
    "        cnt = 0\n",
    "        for obj in parseBBOXFile(xml):\n",
    "            if (int(getTagValue(obj, 'difficult')) > 0): # Skip difficult obj. = very occluded objects.\n",
    "                continue\n",
    "            \n",
    "            label = getTagValue(obj, 'name')\n",
    "            xmin = int(getTagValue(obj, 'xmin'))\n",
    "            ymin = int(getTagValue(obj, 'ymin'))\n",
    "            xmax = int(getTagValue(obj, 'xmax'))\n",
    "            ymax = int(getTagValue(obj, 'ymax'))\n",
    "            img_region = img[ymin:ymax, xmin:xmax].copy()\n",
    "            cv2.imwrite('../images/{}/{}/{}_{}.jpg'.format(path, label, f, cnt), img_region, [int(cv2.IMWRITE_JPEG_QUALITY), 90])\n",
    "            cnt += 1\n",
    "            \n",
    "        if ((idx % 250) == 0):\n",
    "            print(\"Handled\", (idx+1), \"files!\")\n",
    "        #break # Do this if we need to train a classifier with no region proposal stuff."
   ]
  },
  {
   "cell_type": "code",
   "execution_count": 12,
   "id": "congressional-elite",
   "metadata": {},
   "outputs": [],
   "source": [
    "#createFoldersForLabels()"
   ]
  },
  {
   "cell_type": "code",
   "execution_count": 10,
   "id": "identical-intake",
   "metadata": {},
   "outputs": [
    {
     "name": "stdout",
     "output_type": "stream",
     "text": [
      "Handled 1 files!\n",
      "Handled 251 files!\n",
      "Handled 501 files!\n"
     ]
    }
   ],
   "source": [
    "#createImagesFromBBOX('test')"
   ]
  },
  {
   "cell_type": "code",
   "execution_count": 13,
   "id": "herbal-dealer",
   "metadata": {},
   "outputs": [
    {
     "name": "stdout",
     "output_type": "stream",
     "text": [
      "Handled 1 files!\n",
      "Handled 251 files!\n",
      "Handled 501 files!\n",
      "Handled 751 files!\n",
      "Handled 1001 files!\n",
      "Handled 1251 files!\n",
      "Handled 1501 files!\n",
      "Handled 1751 files!\n",
      "Handled 2001 files!\n",
      "Handled 2251 files!\n",
      "Handled 2501 files!\n",
      "Handled 2751 files!\n",
      "Handled 3001 files!\n",
      "Handled 3251 files!\n",
      "Handled 3501 files!\n",
      "Handled 3751 files!\n",
      "Handled 4001 files!\n",
      "Handled 4251 files!\n",
      "Handled 4501 files!\n",
      "Handled 4751 files!\n",
      "Handled 5001 files!\n"
     ]
    }
   ],
   "source": [
    "#createImagesFromBBOX('train')"
   ]
  },
  {
   "cell_type": "code",
   "execution_count": 7,
   "id": "cloudy-arrest",
   "metadata": {},
   "outputs": [],
   "source": [
    "def getNumObjects(path='../images/raw'):\n",
    "    num = 0\n",
    "    for f in getImagesOfInterest(path):\n",
    "        num += len(parseBBOXFile('{}/{}.xml'.format(path, f)))\n",
    "    return num\n",
    "\n",
    "def getNumObjectsOfType(path='../images/raw'):\n",
    "    types = defaultdict(int)\n",
    "    for f in getImagesOfInterest(path):\n",
    "        for obj in parseBBOXFile('{}/{}.xml'.format(path, f)):\n",
    "            label = getTagValue(obj, 'name')\n",
    "            types[label] = (types[label] + 1)\n",
    "    return types\n",
    "\n",
    "def getOccludedAndTrunc(path='../images/raw'):\n",
    "    count_trunc, count_diff = 0, 0\n",
    "    for f in getImagesOfInterest(path):\n",
    "        for obj in parseBBOXFile('{}/{}.xml'.format(path, f)):\n",
    "            trunc, diff = int(getTagValue(obj, 'truncated')), int(getTagValue(obj, 'difficult'))\n",
    "            count_trunc += trunc\n",
    "            count_diff += diff\n",
    "    return count_trunc, count_diff"
   ]
  },
  {
   "cell_type": "code",
   "execution_count": 8,
   "id": "secondary-sweet",
   "metadata": {},
   "outputs": [
    {
     "data": {
      "text/plain": [
       "5215"
      ]
     },
     "execution_count": 8,
     "metadata": {},
     "output_type": "execute_result"
    }
   ],
   "source": [
    "getNumObjects()"
   ]
  },
  {
   "cell_type": "code",
   "execution_count": 9,
   "id": "resident-transmission",
   "metadata": {},
   "outputs": [
    {
     "data": {
      "text/plain": [
       "8119"
      ]
     },
     "execution_count": 9,
     "metadata": {},
     "output_type": "execute_result"
    }
   ],
   "source": [
    "getNumObjects('../images/dark')"
   ]
  },
  {
   "cell_type": "code",
   "execution_count": 10,
   "id": "absolute-shoulder",
   "metadata": {},
   "outputs": [
    {
     "data": {
      "text/plain": [
       "7991"
      ]
     },
     "execution_count": 10,
     "metadata": {},
     "output_type": "execute_result"
    }
   ],
   "source": [
    "getNumObjects('../images/kitti')"
   ]
  },
  {
   "cell_type": "code",
   "execution_count": 30,
   "id": "aging-chassis",
   "metadata": {},
   "outputs": [
    {
     "data": {
      "text/plain": [
       "(456, 1023)"
      ]
     },
     "execution_count": 30,
     "metadata": {},
     "output_type": "execute_result"
    }
   ],
   "source": [
    "getOccludedAndTrunc('../images/kitti')"
   ]
  },
  {
   "cell_type": "code",
   "execution_count": 119,
   "id": "antique-chorus",
   "metadata": {},
   "outputs": [],
   "source": [
    "def scramble(path='../images/raw'):\n",
    "    \"\"\"Move a selected grp of images, shuffle and copy X images over to temp.\"\"\"\n",
    "    files = []\n",
    "    for filename in os.listdir(path):\n",
    "        f = '{}/{}.xml'.format(path, filename[:-4]) # Target file for obj. and bboxes.\n",
    "        if (not filename.endswith(\".jpg\")) or (os.path.isfile(f)):\n",
    "            continue\n",
    "        if not (('_18-01' in filename) or ('_19-01' in filename)):\n",
    "            continue\n",
    "        files.append(filename[:-4])\n",
    "        \n",
    "    grps = {}\n",
    "    for f in files:\n",
    "        idx = f.find('_18-01')\n",
    "        if idx == -1:\n",
    "            idx = f.find('_19-01')\n",
    "        if not (f[:idx] in grps):        \n",
    "            grps[f[:idx]] = []\n",
    "        grps[f[:idx]].append(f)\n",
    "    \n",
    "    files = []\n",
    "    for k, v in grps.items():\n",
    "        random.shuffle(v)\n",
    "        random.shuffle(v)\n",
    "        files += v[:10]\n",
    "        \n",
    "    print('Copying to temp:\\n', files)\n",
    "    for f in files:\n",
    "        shutil.copyfile('../images/raw/{}.jpg'.format(f), '../images/temp/{}.jpg'.format(f))"
   ]
  },
  {
   "cell_type": "code",
   "execution_count": 120,
   "id": "normal-induction",
   "metadata": {},
   "outputs": [],
   "source": [
    "#scramble()"
   ]
  },
  {
   "cell_type": "code",
   "execution_count": 9,
   "id": "olympic-wheel",
   "metadata": {},
   "outputs": [],
   "source": [
    "def hist(d):\n",
    "    \"\"\"Plot Histogram of Gradient for a given bin vector.\"\"\"\n",
    "    X = []\n",
    "    for i, v in enumerate(d.values()):\n",
    "        X.extend((np.zeros(int(round(v)), dtype=np.uint64)+i).tolist())\n",
    "    fig, ax = plt.subplots(1, figsize=(26,14), tight_layout=True)\n",
    "    ax.hist(X, bins=np.arange(len(d)+1)-0.5, rwidth=0.35)\n",
    "    ax.set_title('Vehicle Distribution', fontsize=24)\n",
    "    ax.set_xlabel('Vehicle', fontsize=20)\n",
    "    ax.set_ylabel('Frequency', fontsize=20)\n",
    "    ax.set_xticklabels(list(d.keys()))\n",
    "    plt.xticks(np.arange(len(d)), fontsize=20)\n",
    "    plt.yticks(fontsize=20)\n",
    "    #plt.savefig('./fig/plot_bins.png', transparent=False, bbox_inches='tight')\n",
    "    plt.show()"
   ]
  },
  {
   "cell_type": "code",
   "execution_count": 10,
   "id": "animated-approval",
   "metadata": {},
   "outputs": [
    {
     "name": "stderr",
     "output_type": "stream",
     "text": [
      "<ipython-input-9-188fd65fd25c>:11: UserWarning: FixedFormatter should only be used together with FixedLocator\n",
      "  ax.set_xticklabels(list(d.keys()))\n"
     ]
    },
    {
     "data": {
      "image/png": "[encoded data removed]",
      "text/plain": [
       "<Figure size 1872x1008 with 1 Axes>"
      ]
     },
     "metadata": {
      "needs_background": "light"
     },
     "output_type": "display_data"
    }
   ],
   "source": [
    "veh_typ = getNumObjectsOfType()\n",
    "hist(veh_typ)"
   ]
  },
  {
   "cell_type": "code",
   "execution_count": 123,
   "id": "dramatic-library",
   "metadata": {},
   "outputs": [
    {
     "data": {
      "text/plain": [
       "defaultdict(int, {'car': 4815, 'truck': 322, 'bus': 77, 'bike': 1})"
      ]
     },
     "execution_count": 123,
     "metadata": {},
     "output_type": "execute_result"
    }
   ],
   "source": [
    "veh_typ"
   ]
  },
  {
   "cell_type": "code",
   "execution_count": 11,
   "id": "collectible-independence",
   "metadata": {},
   "outputs": [
    {
     "name": "stderr",
     "output_type": "stream",
     "text": [
      "<ipython-input-10-188fd65fd25c>:11: UserWarning: FixedFormatter should only be used together with FixedLocator\n",
      "  ax.set_xticklabels(list(d.keys()))\n"
     ]
    },
    {
     "data": {
      "image/png": "[encoded data removed]",
      "text/plain": [
       "<Figure size 1872x1008 with 1 Axes>"
      ]
     },
     "metadata": {
      "needs_background": "light"
     },
     "output_type": "display_data"
    }
   ],
   "source": [
    "hist(getNumObjectsOfType('../images/dark'))"
   ]
  },
  {
   "cell_type": "code",
   "execution_count": 15,
   "id": "artificial-administrator",
   "metadata": {},
   "outputs": [
    {
     "name": "stderr",
     "output_type": "stream",
     "text": [
      "<ipython-input-14-188fd65fd25c>:11: UserWarning: FixedFormatter should only be used together with FixedLocator\n",
      "  ax.set_xticklabels(list(d.keys()))\n"
     ]
    },
    {
     "data": {
      "image/png": "[encoded data removed]",
      "text/plain": [
       "<Figure size 1872x1008 with 1 Axes>"
      ]
     },
     "metadata": {
      "needs_background": "light"
     },
     "output_type": "display_data"
    }
   ],
   "source": [
    "hist(getNumObjectsOfType('../images/kitti'))"
   ]
  },
  {
   "cell_type": "code",
   "execution_count": null,
   "id": "greater-inclusion",
   "metadata": {},
   "outputs": [],
   "source": []
  }
 ],
 "metadata": {
  "kernelspec": {
   "display_name": "Python 3",
   "language": "python",
   "name": "python3"
  },
  "language_info": {
   "codemirror_mode": {
    "name": "ipython",
    "version": 3
   },
   "file_extension": ".py",
   "mimetype": "text/x-python",
   "name": "python",
   "nbconvert_exporter": "python",
   "pygments_lexer": "ipython3",
   "version": "3.8.5"
  }
 },
 "nbformat": 4,
 "nbformat_minor": 5
}
