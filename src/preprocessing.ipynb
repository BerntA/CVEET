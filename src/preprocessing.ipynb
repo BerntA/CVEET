{
 "cells": [
  {
   "cell_type": "code",
   "execution_count": 71,
   "id": "temporal-advertising",
   "metadata": {},
   "outputs": [],
   "source": [
    "%matplotlib inline"
   ]
  },
  {
   "cell_type": "code",
   "execution_count": 79,
   "id": "medical-teach",
   "metadata": {},
   "outputs": [],
   "source": [
    "import os\n",
    "import shutil\n",
    "import random\n",
    "import time\n",
    "import math\n",
    "import cv2\n",
    "import re\n",
    "import matplotlib\n",
    "import matplotlib.pyplot as plt\n",
    "import numpy as np\n",
    "from collections import defaultdict, Counter\n",
    "from utils import show_image"
   ]
  },
  {
   "cell_type": "code",
   "execution_count": 80,
   "id": "uniform-rugby",
   "metadata": {},
   "outputs": [
    {
     "data": {
      "text/plain": [
       "'E:/Cloud/GIT/CVEET'"
      ]
     },
     "execution_count": 80,
     "metadata": {},
     "output_type": "execute_result"
    }
   ],
   "source": [
    "CWD = '/'.join(os.getcwd().replace('\\\\', '/').split('/')[:-1])\n",
    "CWD"
   ]
  },
  {
   "cell_type": "code",
   "execution_count": 75,
   "id": "novel-custody",
   "metadata": {},
   "outputs": [],
   "source": [
    "def getImagesOfInterest(path):\n",
    "    \"\"\"Return a list of images + their respective xml bbox+labels file.\"\"\"\n",
    "    files = []\n",
    "    for filename in os.listdir('../images/raw/'):\n",
    "        f = '{}/images/raw/{}.xml'.format(CWD, filename[:-4]) # Target file for obj. and bboxes.\n",
    "        if (not filename.endswith(\".jpg\")) or (not os.path.isfile(f)):\n",
    "            continue\n",
    "        files.append(filename[:-4])\n",
    "    return files"
   ]
  },
  {
   "cell_type": "markdown",
   "id": "perceived-kennedy",
   "metadata": {},
   "source": [
    "Move raw images plus their respective xml/json bounding box + object files to train / test / valid"
   ]
  },
  {
   "cell_type": "code",
   "execution_count": 76,
   "id": "dental-provincial",
   "metadata": {},
   "outputs": [],
   "source": [
    "def createTrainTestData(perc=0.8, path='../images/raw/'):\n",
    "    files = getImagesOfInterest(path)\n",
    "    random.shuffle(files)\n",
    "    items = int(len(files)*perc)\n",
    "    train = files[:items]\n",
    "    test = files[items:]\n",
    "    print(len(files), '--->', len(train), len(test))\n",
    "    \n",
    "    for f in train:\n",
    "        shutil.copyfile('../images/raw/{}.jpg'.format(f), '../images/train/{}.jpg'.format(f))\n",
    "        shutil.copyfile('../images/raw/{}.xml'.format(f), '../images/train/{}.xml'.format(f))\n",
    "        #break\n",
    "    \n",
    "    for f in test:\n",
    "        shutil.copyfile('../images/raw/{}.jpg'.format(f), '../images/test/{}.jpg'.format(f))\n",
    "        shutil.copyfile('../images/raw/{}.xml'.format(f), '../images/test/{}.xml'.format(f))\n",
    "        #break\n",
    "        \n",
    "    print(\"Finished train-test split, using\", perc, '% train and', 1-perc, 'test.')"
   ]
  },
  {
   "cell_type": "code",
   "execution_count": 77,
   "id": "common-charles",
   "metadata": {},
   "outputs": [
    {
     "name": "stdout",
     "output_type": "stream",
     "text": [
      "772 ---> 694 78\n",
      "Finished train-test split, using 0.9 % train and 0.09999999999999998 test.\n"
     ]
    }
   ],
   "source": [
    "createTrainTestData(0.9)"
   ]
  },
  {
   "cell_type": "markdown",
   "id": "posted-blast",
   "metadata": {},
   "source": [
    "Crop and save regions from images, based on respective XML file."
   ]
  },
  {
   "cell_type": "code",
   "execution_count": 7,
   "id": "sublime-stationery",
   "metadata": {},
   "outputs": [],
   "source": [
    "def parseBBOXFile(file):\n",
    "    with open(file, 'r') as f:\n",
    "        content = []\n",
    "        for i, line in enumerate(f):\n",
    "            if i <= 12: # Skip these lines.\n",
    "                continue\n",
    "            line = line.strip().lower().replace('\\n', '').replace('\\r', '').replace('\\t', '')\n",
    "            line = line.replace('</object>', '')\n",
    "            content.append(line)\n",
    "        return ''.join(content[:-1]).split('<object>')[1:] # Return content - last line.\n",
    "    \n",
    "def getTagValue(text, tag):\n",
    "    start, end = text.find('<{}>'.format(tag)), text.find('</{}>'.format(tag))\n",
    "    return text[(start+len(tag)+2):end]"
   ]
  },
  {
   "cell_type": "code",
   "execution_count": 8,
   "id": "statistical-cigarette",
   "metadata": {},
   "outputs": [],
   "source": [
    "def createImagesFromBBOX(path='../images/raw/'):\n",
    "    vehicles = {}\n",
    "    for f in getImagesOfInterest(path):\n",
    "        jpg, xml = '{}{}.jpg'.format(path, f), '{}{}.xml'.format(path, f)\n",
    "        img = cv2.imread(jpg, cv2.IMREAD_COLOR)\n",
    "        for obj in parseBBOXFile(xml):\n",
    "            label = getTagValue(obj, 'name')\n",
    "            vehicles[label] = vehicles.get(label, 0) + 1\n",
    "            xmin = int(getTagValue(obj, 'xmin'))\n",
    "            ymin = int(getTagValue(obj, 'ymin'))\n",
    "            xmax = int(getTagValue(obj, 'xmax'))\n",
    "            ymax = int(getTagValue(obj, 'ymax'))\n",
    "            print(label, xmin, ymin, xmax, ymax)\n",
    "            img_region = img[ymin:ymax, xmin:xmax].copy()\n",
    "            show_image(img_region, size=(2,1))\n",
    "            cv2.imwrite('../images/raw_classify/{}_{}.jpg'.format(label, vehicles[label]), img_region)\n",
    "            \n",
    "        break # Do this if we need to train a classifier."
   ]
  },
  {
   "cell_type": "code",
   "execution_count": 27,
   "id": "herbal-dealer",
   "metadata": {},
   "outputs": [
    {
     "name": "stdout",
     "output_type": "stream",
     "text": [
      "car 486 295 509 315\n"
     ]
    },
    {
     "data": {
      "image/png": "[encoded data removed]",
      "text/plain": [
       "<Figure size 144x72 with 1 Axes>"
      ]
     },
     "metadata": {},
     "output_type": "display_data"
    },
    {
     "name": "stdout",
     "output_type": "stream",
     "text": [
      "car 421 239 429 246\n"
     ]
    },
    {
     "data": {
      "image/png": "[encoded data removed]",
      "text/plain": [
       "<Figure size 144x72 with 1 Axes>"
      ]
     },
     "metadata": {},
     "output_type": "display_data"
    },
    {
     "name": "stdout",
     "output_type": "stream",
     "text": [
      "car 411 232 419 239\n"
     ]
    },
    {
     "data": {
      "image/png": "[encoded data removed]",
      "text/plain": [
       "<Figure size 144x72 with 1 Axes>"
      ]
     },
     "metadata": {},
     "output_type": "display_data"
    },
    {
     "name": "stdout",
     "output_type": "stream",
     "text": [
      "car 401 228 406 233\n"
     ]
    },
    {
     "data": {
      "image/png": "[encoded data removed]",
      "text/plain": [
       "<Figure size 144x72 with 1 Axes>"
      ]
     },
     "metadata": {},
     "output_type": "display_data"
    },
    {
     "name": "stdout",
     "output_type": "stream",
     "text": [
      "car 305 236 318 246\n"
     ]
    },
    {
     "data": {
      "image/png": "[encoded data removed]",
      "text/plain": [
       "<Figure size 144x72 with 1 Axes>"
      ]
     },
     "metadata": {},
     "output_type": "display_data"
    }
   ],
   "source": [
    "createImagesFromBBOX()"
   ]
  },
  {
   "cell_type": "code",
   "execution_count": 95,
   "id": "cloudy-arrest",
   "metadata": {},
   "outputs": [],
   "source": [
    "def getNumObjects(path='../images/raw/'):\n",
    "    num = 0\n",
    "    for f in getImagesOfInterest(path):\n",
    "        num += len(parseBBOXFile('{}{}.xml'.format(path, f)))\n",
    "    return num\n",
    "\n",
    "def getNumObjectsOfType(path='../images/raw/'):\n",
    "    types = defaultdict(int)\n",
    "    for f in getImagesOfInterest(path):\n",
    "        for obj in parseBBOXFile('{}{}.xml'.format(path, f)):\n",
    "            label = getTagValue(obj, 'name')\n",
    "            types[label] = (types[label] + 1)\n",
    "    return types"
   ]
  },
  {
   "cell_type": "code",
   "execution_count": 85,
   "id": "secondary-sweet",
   "metadata": {},
   "outputs": [
    {
     "data": {
      "text/plain": [
       "5215"
      ]
     },
     "execution_count": 85,
     "metadata": {},
     "output_type": "execute_result"
    }
   ],
   "source": [
    "getNumObjects()"
   ]
  },
  {
   "cell_type": "code",
   "execution_count": 96,
   "id": "antique-chorus",
   "metadata": {},
   "outputs": [],
   "source": [
    "def scramble(path='../images/raw/'):\n",
    "    \"\"\"Move a selected grp of images, shuffle and copy X images over to temp.\"\"\"\n",
    "    files = []\n",
    "    for filename in os.listdir('../images/raw/'):\n",
    "        f = '{}/images/raw/{}.xml'.format(CWD, filename[:-4]) # Target file for obj. and bboxes.\n",
    "        if (not filename.endswith(\".jpg\")) or (os.path.isfile(f)):\n",
    "            continue\n",
    "        if not (('_18-01' in filename) or ('_19-01' in filename)):\n",
    "            continue\n",
    "        files.append(filename[:-4])\n",
    "        \n",
    "    grps = {}\n",
    "    for f in files:\n",
    "        idx = f.find('_18-01')\n",
    "        if idx == -1:\n",
    "            idx = f.find('_19-01')\n",
    "        if not (f[:idx] in grps):        \n",
    "            grps[f[:idx]] = []\n",
    "        grps[f[:idx]].append(f)\n",
    "    \n",
    "    files = []\n",
    "    for k, v in grps.items():\n",
    "        random.shuffle(v)\n",
    "        random.shuffle(v)\n",
    "        files += v[:10]\n",
    "        \n",
    "    print('Copying to temp:\\n', files)\n",
    "    for f in files:\n",
    "        shutil.copyfile('../images/raw/{}.jpg'.format(f), '../images/temp/{}.jpg'.format(f))"
   ]
  },
  {
   "cell_type": "code",
   "execution_count": 97,
   "id": "normal-induction",
   "metadata": {},
   "outputs": [],
   "source": [
    "#scramble()"
   ]
  },
  {
   "cell_type": "code",
   "execution_count": 100,
   "id": "olympic-wheel",
   "metadata": {},
   "outputs": [],
   "source": [
    "def hist(d):\n",
    "    \"\"\"Plot Histogram of Gradient for a given bin vector.\"\"\"\n",
    "    X = []\n",
    "    for i, v in enumerate(d.values()):\n",
    "        X.extend((np.zeros(int(round(v)), dtype=np.uint64)+i).tolist())\n",
    "    fig, ax = plt.subplots(1, figsize=(26,14), tight_layout=True)\n",
    "    ax.hist(X, bins=np.arange(len(d)+1)-0.5, rwidth=0.35)\n",
    "    ax.set_title('Vehicle Distribution', fontsize=24)\n",
    "    ax.set_xlabel('Vehicle', fontsize=20)\n",
    "    ax.set_ylabel('Frequency', fontsize=20)\n",
    "    ax.set_xticklabels(list(d.keys()))\n",
    "    plt.xticks(np.arange(len(d)), fontsize=20)\n",
    "    plt.yticks(fontsize=20)\n",
    "    #plt.savefig('./fig/plot_bins.png', transparent=False, bbox_inches='tight')\n",
    "    plt.show()"
   ]
  },
  {
   "cell_type": "code",
   "execution_count": 101,
   "id": "animated-approval",
   "metadata": {},
   "outputs": [
    {
     "name": "stderr",
     "output_type": "stream",
     "text": [
      "<ipython-input-100-188fd65fd25c>:11: UserWarning: FixedFormatter should only be used together with FixedLocator\n",
      "  ax.set_xticklabels(list(d.keys()))\n"
     ]
    },
    {
     "data": {
      "image/png": "[encoded data removed]",
      "text/plain": [
       "<Figure size 1872x1008 with 1 Axes>"
      ]
     },
     "metadata": {
      "needs_background": "light"
     },
     "output_type": "display_data"
    }
   ],
   "source": [
    "veh_typ = getNumObjectsOfType()\n",
    "hist(veh_typ)"
   ]
  },
  {
   "cell_type": "code",
   "execution_count": 102,
   "id": "dramatic-library",
   "metadata": {},
   "outputs": [
    {
     "data": {
      "text/plain": [
       "defaultdict(int, {'car': 4815, 'truck': 322, 'bus': 77, 'bike': 1})"
      ]
     },
     "execution_count": 102,
     "metadata": {},
     "output_type": "execute_result"
    }
   ],
   "source": [
    "veh_typ"
   ]
  },
  {
   "cell_type": "code",
   "execution_count": null,
   "id": "administrative-somalia",
   "metadata": {},
   "outputs": [],
   "source": []
  }
 ],
 "metadata": {
  "kernelspec": {
   "display_name": "Python 3",
   "language": "python",
   "name": "python3"
  },
  "language_info": {
   "codemirror_mode": {
    "name": "ipython",
    "version": 3
   },
   "file_extension": ".py",
   "mimetype": "text/x-python",
   "name": "python",
   "nbconvert_exporter": "python",
   "pygments_lexer": "ipython3",
   "version": "3.8.5"
  }
 },
 "nbformat": 4,
 "nbformat_minor": 5
}
