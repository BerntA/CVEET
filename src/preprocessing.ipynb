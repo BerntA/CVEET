{
 "cells": [
  {
   "cell_type": "code",
   "execution_count": 1,
   "id": "medical-teach",
   "metadata": {},
   "outputs": [],
   "source": [
    "import os\n",
    "import shutil\n",
    "import random\n",
    "import time\n",
    "import math\n",
    "import cv2\n",
    "import re\n",
    "import matplotlib\n",
    "import matplotlib.pyplot as plt\n",
    "import numpy as np\n",
    "from collections import defaultdict, Counter\n",
    "from utils import show_image, parseBBOXFile, getTagValue"
   ]
  },
  {
   "cell_type": "code",
   "execution_count": 2,
   "id": "timely-ordinary",
   "metadata": {},
   "outputs": [],
   "source": [
    "%matplotlib inline"
   ]
  },
  {
   "cell_type": "code",
   "execution_count": 3,
   "id": "novel-custody",
   "metadata": {},
   "outputs": [],
   "source": [
    "def getImagesOfInterest(path):\n",
    "    \"\"\"Return a list of images + their respective xml bbox+labels file.\"\"\"\n",
    "    files = []\n",
    "    for filename in os.listdir(path):\n",
    "        f = '{}/{}.xml'.format(path, filename[:-4]) # Target file for obj. and bboxes.\n",
    "        if (not filename.endswith(\".jpg\")) or (not os.path.isfile(f)):\n",
    "            continue\n",
    "        files.append(filename[:-4].lower())\n",
    "    return files"
   ]
  },
  {
   "cell_type": "markdown",
   "id": "perceived-kennedy",
   "metadata": {},
   "source": [
    "Move raw images plus their respective xml/json bounding box + object files to train / test / valid"
   ]
  },
  {
   "cell_type": "code",
   "execution_count": 12,
   "id": "blank-boring",
   "metadata": {},
   "outputs": [
    {
     "data": {
      "text/plain": [
       "{'car': 0, 'truck': 1, 'bus': 2, 'person': 3, 'bike': 4}"
      ]
     },
     "execution_count": 12,
     "metadata": {},
     "output_type": "execute_result"
    }
   ],
   "source": [
    "WEIGHT = {\n",
    "    'car': 0,\n",
    "    'truck': 1,\n",
    "    'bus': 2,\n",
    "    'person': 3,\n",
    "    'bike': 4,\n",
    "}\n",
    "\n",
    "def getWeightForLabel(lbl):\n",
    "    return (WEIGHT[lbl] if (lbl in WEIGHT) else -1)\n",
    "\n",
    "WEIGHT"
   ]
  },
  {
   "cell_type": "code",
   "execution_count": 13,
   "id": "dental-provincial",
   "metadata": {},
   "outputs": [],
   "source": [
    "def createTrainTestSplit(files, perc):\n",
    "    if (len(files) <= 1): # Special case.\n",
    "        print(len(files), '--->', len(files), 0)\n",
    "        return files, []\n",
    "    \n",
    "    random.shuffle(files)\n",
    "    items = int(len(files)*perc)\n",
    "    train = files[:items]\n",
    "    test = files[items:]\n",
    "    print(len(files), '--->', len(train), len(test))\n",
    "    return train, test\n",
    "    \n",
    "def createGroups(path):\n",
    "    grps = defaultdict(list)\n",
    "    for f in getImagesOfInterest(path):\n",
    "        labels = list(set([getTagValue(obj, 'name') for obj in parseBBOXFile('{}/{}.xml'.format(path, f))]))\n",
    "        if len(labels) == 0:\n",
    "            continue\n",
    "        labels.sort(key=lambda x: getWeightForLabel(x), reverse=True)\n",
    "        grps[labels[0]].append(f) # Add file to the highest priority label.\n",
    "    return grps\n",
    "\n",
    "def createDataSplit(out, path, perc=0.9):\n",
    "    train, test = [], [] # Output train and test files!\n",
    "    g = createGroups(path) # Split data into car, truck, bus, ... Guarantee that we train and test on all classes.\n",
    "    print('Group Distribution:', ', '.join(['{} {}'.format(k, len(v)) for k, v in g.items()]))\n",
    "    \n",
    "    for files in g.values(): # Now split each group into train and test.\n",
    "        train_split, test_split = createTrainTestSplit(files, perc)\n",
    "        train += train_split\n",
    "        test += test_split\n",
    "    \n",
    "    print(\"Finished train-test split, using\", perc, '% train and', 1-perc, 'test.')\n",
    "    folder = path.lower().replace('\\\\', '/').split('/')[-1]\n",
    "    train.sort()\n",
    "    test.sort()\n",
    "    \n",
    "    with open('../images/train/{}.txt'.format(out), 'w') as target:\n",
    "        for f in train:\n",
    "            target.write('{}/{}\\n'.format(folder, f))\n",
    "            \n",
    "    with open('../images/test/{}.txt'.format(out), 'w') as target:\n",
    "        for f in test:\n",
    "            target.write('{}/{}\\n'.format(folder, f))\n",
    "            \n",
    "    print(\"Wrote the train-test split files into train and test respectively.\")    "
   ]
  },
  {
   "cell_type": "code",
   "execution_count": 114,
   "id": "stone-strand",
   "metadata": {},
   "outputs": [
    {
     "name": "stdout",
     "output_type": "stream",
     "text": [
      "Group Distribution: car 490, truck 209, bus 72, bike 1\n",
      "490 ---> 441 49\n",
      "209 ---> 188 21\n",
      "72 ---> 64 8\n",
      "1 ---> 1 0\n",
      "Finished train-test split, using 0.9 % train and 0.09999999999999998 test.\n",
      "Wrote the train-test split files into train and test respectively.\n"
     ]
    }
   ],
   "source": [
    "#createDataSplit('raw', '../images/raw')"
   ]
  },
  {
   "cell_type": "code",
   "execution_count": 14,
   "id": "designed-perception",
   "metadata": {},
   "outputs": [
    {
     "name": "stdout",
     "output_type": "stream",
     "text": [
      "Group Distribution: person 954, bus 267, bike 535, car 520\n",
      "954 ---> 858 96\n",
      "267 ---> 240 27\n",
      "535 ---> 481 54\n",
      "520 ---> 468 52\n",
      "Finished train-test split, using 0.9 % train and 0.09999999999999998 test.\n",
      "Wrote the train-test split files into train and test respectively.\n"
     ]
    }
   ],
   "source": [
    "createDataSplit('dark', '../images/dark')"
   ]
  },
  {
   "cell_type": "markdown",
   "id": "posted-blast",
   "metadata": {},
   "source": [
    "Crop and save regions from images, based on respective XML file."
   ]
  },
  {
   "cell_type": "code",
   "execution_count": 115,
   "id": "statistical-cigarette",
   "metadata": {},
   "outputs": [],
   "source": [
    "def createImagesFromBBOX(path='../images/raw'):\n",
    "    vehicles = {}\n",
    "    for f in getImagesOfInterest(path):\n",
    "        jpg, xml = '{}/{}.jpg'.format(path, f), '{}/{}.xml'.format(path, f)\n",
    "        img = cv2.imread(jpg, cv2.IMREAD_COLOR)\n",
    "        for obj in parseBBOXFile(xml):\n",
    "            label = getTagValue(obj, 'name')\n",
    "            vehicles[label] = vehicles.get(label, 0) + 1\n",
    "            xmin = int(getTagValue(obj, 'xmin'))\n",
    "            ymin = int(getTagValue(obj, 'ymin'))\n",
    "            xmax = int(getTagValue(obj, 'xmax'))\n",
    "            ymax = int(getTagValue(obj, 'ymax'))\n",
    "            print(label, xmin, ymin, xmax, ymax)\n",
    "            img_region = img[ymin:ymax, xmin:xmax].copy()\n",
    "            show_image(img_region, size=(2,1))\n",
    "            cv2.imwrite('../images/raw_classify/{}_{}.jpg'.format(label, vehicles[label]), img_region)\n",
    "        break # Do this if we need to train a classifier with no region proposal stuff."
   ]
  },
  {
   "cell_type": "code",
   "execution_count": 116,
   "id": "herbal-dealer",
   "metadata": {},
   "outputs": [],
   "source": [
    "#createImagesFromBBOX()"
   ]
  },
  {
   "cell_type": "code",
   "execution_count": 8,
   "id": "cloudy-arrest",
   "metadata": {},
   "outputs": [],
   "source": [
    "def getNumObjects(path='../images/raw'):\n",
    "    num = 0\n",
    "    for f in getImagesOfInterest(path):\n",
    "        num += len(parseBBOXFile('{}/{}.xml'.format(path, f)))\n",
    "    return num\n",
    "\n",
    "def getNumObjectsOfType(path='../images/raw'):\n",
    "    types = defaultdict(int)\n",
    "    for f in getImagesOfInterest(path):\n",
    "        for obj in parseBBOXFile('{}/{}.xml'.format(path, f)):\n",
    "            label = getTagValue(obj, 'name')\n",
    "            types[label] = (types[label] + 1)\n",
    "    return types"
   ]
  },
  {
   "cell_type": "code",
   "execution_count": 118,
   "id": "secondary-sweet",
   "metadata": {},
   "outputs": [
    {
     "data": {
      "text/plain": [
       "5215"
      ]
     },
     "execution_count": 118,
     "metadata": {},
     "output_type": "execute_result"
    }
   ],
   "source": [
    "getNumObjects()"
   ]
  },
  {
   "cell_type": "code",
   "execution_count": 9,
   "id": "resident-transmission",
   "metadata": {},
   "outputs": [
    {
     "data": {
      "text/plain": [
       "8119"
      ]
     },
     "execution_count": 9,
     "metadata": {},
     "output_type": "execute_result"
    }
   ],
   "source": [
    "getNumObjects('../images/dark')"
   ]
  },
  {
   "cell_type": "code",
   "execution_count": 119,
   "id": "antique-chorus",
   "metadata": {},
   "outputs": [],
   "source": [
    "def scramble(path='../images/raw'):\n",
    "    \"\"\"Move a selected grp of images, shuffle and copy X images over to temp.\"\"\"\n",
    "    files = []\n",
    "    for filename in os.listdir(path):\n",
    "        f = '{}/{}.xml'.format(path, filename[:-4]) # Target file for obj. and bboxes.\n",
    "        if (not filename.endswith(\".jpg\")) or (os.path.isfile(f)):\n",
    "            continue\n",
    "        if not (('_18-01' in filename) or ('_19-01' in filename)):\n",
    "            continue\n",
    "        files.append(filename[:-4])\n",
    "        \n",
    "    grps = {}\n",
    "    for f in files:\n",
    "        idx = f.find('_18-01')\n",
    "        if idx == -1:\n",
    "            idx = f.find('_19-01')\n",
    "        if not (f[:idx] in grps):        \n",
    "            grps[f[:idx]] = []\n",
    "        grps[f[:idx]].append(f)\n",
    "    \n",
    "    files = []\n",
    "    for k, v in grps.items():\n",
    "        random.shuffle(v)\n",
    "        random.shuffle(v)\n",
    "        files += v[:10]\n",
    "        \n",
    "    print('Copying to temp:\\n', files)\n",
    "    for f in files:\n",
    "        shutil.copyfile('../images/raw/{}.jpg'.format(f), '../images/temp/{}.jpg'.format(f))"
   ]
  },
  {
   "cell_type": "code",
   "execution_count": 120,
   "id": "normal-induction",
   "metadata": {},
   "outputs": [],
   "source": [
    "#scramble()"
   ]
  },
  {
   "cell_type": "code",
   "execution_count": 10,
   "id": "olympic-wheel",
   "metadata": {},
   "outputs": [],
   "source": [
    "def hist(d):\n",
    "    \"\"\"Plot Histogram of Gradient for a given bin vector.\"\"\"\n",
    "    X = []\n",
    "    for i, v in enumerate(d.values()):\n",
    "        X.extend((np.zeros(int(round(v)), dtype=np.uint64)+i).tolist())\n",
    "    fig, ax = plt.subplots(1, figsize=(26,14), tight_layout=True)\n",
    "    ax.hist(X, bins=np.arange(len(d)+1)-0.5, rwidth=0.35)\n",
    "    ax.set_title('Vehicle Distribution', fontsize=24)\n",
    "    ax.set_xlabel('Vehicle', fontsize=20)\n",
    "    ax.set_ylabel('Frequency', fontsize=20)\n",
    "    ax.set_xticklabels(list(d.keys()))\n",
    "    plt.xticks(np.arange(len(d)), fontsize=20)\n",
    "    plt.yticks(fontsize=20)\n",
    "    #plt.savefig('./fig/plot_bins.png', transparent=False, bbox_inches='tight')\n",
    "    plt.show()"
   ]
  },
  {
   "cell_type": "code",
   "execution_count": 122,
   "id": "animated-approval",
   "metadata": {},
   "outputs": [
    {
     "name": "stderr",
     "output_type": "stream",
     "text": [
      "<ipython-input-121-188fd65fd25c>:11: UserWarning: FixedFormatter should only be used together with FixedLocator\n",
      "  ax.set_xticklabels(list(d.keys()))\n"
     ]
    },
    {
     "data": {
      "image/png": "[encoded data removed]",
      "text/plain": [
       "<Figure size 1872x1008 with 1 Axes>"
      ]
     },
     "metadata": {
      "needs_background": "light"
     },
     "output_type": "display_data"
    }
   ],
   "source": [
    "veh_typ = getNumObjectsOfType()\n",
    "hist(veh_typ)"
   ]
  },
  {
   "cell_type": "code",
   "execution_count": 123,
   "id": "dramatic-library",
   "metadata": {},
   "outputs": [
    {
     "data": {
      "text/plain": [
       "defaultdict(int, {'car': 4815, 'truck': 322, 'bus': 77, 'bike': 1})"
      ]
     },
     "execution_count": 123,
     "metadata": {},
     "output_type": "execute_result"
    }
   ],
   "source": [
    "veh_typ"
   ]
  },
  {
   "cell_type": "code",
   "execution_count": 11,
   "id": "collectible-independence",
   "metadata": {},
   "outputs": [
    {
     "name": "stderr",
     "output_type": "stream",
     "text": [
      "<ipython-input-10-188fd65fd25c>:11: UserWarning: FixedFormatter should only be used together with FixedLocator\n",
      "  ax.set_xticklabels(list(d.keys()))\n"
     ]
    },
    {
     "data": {
      "image/png": "[encoded data removed]",
      "text/plain": [
       "<Figure size 1872x1008 with 1 Axes>"
      ]
     },
     "metadata": {
      "needs_background": "light"
     },
     "output_type": "display_data"
    }
   ],
   "source": [
    "hist(getNumObjectsOfType('../images/dark'))"
   ]
  },
  {
   "cell_type": "code",
   "execution_count": null,
   "id": "artificial-administrator",
   "metadata": {},
   "outputs": [],
   "source": []
  }
 ],
 "metadata": {
  "kernelspec": {
   "display_name": "Python 3",
   "language": "python",
   "name": "python3"
  },
  "language_info": {
   "codemirror_mode": {
    "name": "ipython",
    "version": 3
   },
   "file_extension": ".py",
   "mimetype": "text/x-python",
   "name": "python",
   "nbconvert_exporter": "python",
   "pygments_lexer": "ipython3",
   "version": "3.8.5"
  }
 },
 "nbformat": 4,
 "nbformat_minor": 5
}
