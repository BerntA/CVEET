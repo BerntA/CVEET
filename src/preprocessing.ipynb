{
 "cells": [
  {
   "cell_type": "code",
   "execution_count": 19,
   "metadata": {},
   "outputs": [],
   "source": [
    "%matplotlib inline"
   ]
  },
  {
   "cell_type": "code",
   "execution_count": 20,
   "metadata": {},
   "outputs": [],
   "source": [
    "import os\n",
    "import shutil\n",
    "import random\n",
    "import time\n",
    "import math\n",
    "import cv2\n",
    "import re\n",
    "import numpy as np\n",
    "from utils import show_image"
   ]
  },
  {
   "cell_type": "code",
   "execution_count": 21,
   "metadata": {},
   "outputs": [
    {
     "data": {
      "text/plain": [
       "'E:/Cloud/GIT/CVEET'"
      ]
     },
     "execution_count": 21,
     "metadata": {},
     "output_type": "execute_result"
    }
   ],
   "source": [
    "CWD = '/'.join(os.getcwd().replace('\\\\', '/').split('/')[:-1])\n",
    "CWD"
   ]
  },
  {
   "cell_type": "code",
   "execution_count": 22,
   "metadata": {},
   "outputs": [],
   "source": [
    "def getImagesOfInterest(path):\n",
    "    \"\"\"Return a list of images + their respective xml bbox+labels file.\"\"\"\n",
    "    files = []\n",
    "    for filename in os.listdir('../images/raw/'):\n",
    "        f = '{}/images/raw/{}.xml'.format(CWD, filename[:-4]) # Target file for obj. and bboxes.\n",
    "        if (not filename.endswith(\".jpg\")) or (not os.path.isfile(f)):\n",
    "            continue\n",
    "        files.append(filename[:-4])\n",
    "    return files"
   ]
  },
  {
   "cell_type": "markdown",
   "metadata": {},
   "source": [
    "Move raw images plus their respective xml/json bounding box + object files to train / test / valid"
   ]
  },
  {
   "cell_type": "code",
   "execution_count": 23,
   "metadata": {},
   "outputs": [],
   "source": [
    "def createTrainTestData(perc=0.8, path='../images/raw/'):\n",
    "    files = getImagesOfInterest(path)\n",
    "    random.shuffle(files)\n",
    "    items = int(len(files)*perc)\n",
    "    train = files[:items]\n",
    "    test = files[items:]\n",
    "    print(len(files), '--->', len(train), len(test))\n",
    "    \n",
    "    for f in train:\n",
    "        shutil.copyfile('../images/raw/{}.jpg'.format(f), '../images/train/{}.jpg'.format(f))\n",
    "        shutil.copyfile('../images/raw/{}.xml'.format(f), '../images/train/{}.xml'.format(f))\n",
    "        #break\n",
    "    \n",
    "    for f in test:\n",
    "        shutil.copyfile('../images/raw/{}.jpg'.format(f), '../images/test/{}.jpg'.format(f))\n",
    "        shutil.copyfile('../images/raw/{}.xml'.format(f), '../images/test/{}.xml'.format(f))\n",
    "        #break\n",
    "        \n",
    "    print(\"Finished train-test split, using\", perc, '% train and', 1-perc, 'test.')"
   ]
  },
  {
   "cell_type": "code",
   "execution_count": 24,
   "metadata": {},
   "outputs": [],
   "source": [
    "#createTrainTestData(0.9)"
   ]
  },
  {
   "cell_type": "markdown",
   "metadata": {},
   "source": [
    "Crop and save regions from images, based on respective XML file."
   ]
  },
  {
   "cell_type": "code",
   "execution_count": 25,
   "metadata": {},
   "outputs": [],
   "source": [
    "def parseBBOXFile(file):\n",
    "    with open(file, 'r') as f:\n",
    "        content = []\n",
    "        for i, line in enumerate(f):\n",
    "            if i <= 12: # Skip these lines.\n",
    "                continue\n",
    "            line = line.strip().lower().replace('\\n', '').replace('\\r', '').replace('\\t', '')\n",
    "            line = line.replace('</object>', '')\n",
    "            content.append(line)\n",
    "        return ''.join(content[:-1]).split('<object>')[1:] # Return content - last line.\n",
    "    \n",
    "def getTagValue(text, tag):\n",
    "    start, end = text.find('<{}>'.format(tag)), text.find('</{}>'.format(tag))\n",
    "    return text[(start+len(tag)+2):end]"
   ]
  },
  {
   "cell_type": "code",
   "execution_count": 26,
   "metadata": {},
   "outputs": [],
   "source": [
    "def createImagesFromBBOX(path='../images/raw/'):\n",
    "    vehicles = {}\n",
    "    for f in getImagesOfInterest(path):\n",
    "        jpg, xml = '{}{}.jpg'.format(path, f), '{}{}.xml'.format(path, f)\n",
    "        img = cv2.imread(jpg, cv2.IMREAD_COLOR)\n",
    "        for obj in parseBBOXFile(xml):\n",
    "            label = getTagValue(obj, 'name')\n",
    "            vehicles[label] = vehicles.get(label, 0) + 1\n",
    "            xmin = int(getTagValue(obj, 'xmin'))\n",
    "            ymin = int(getTagValue(obj, 'ymin'))\n",
    "            xmax = int(getTagValue(obj, 'xmax'))\n",
    "            ymax = int(getTagValue(obj, 'ymax'))\n",
    "            print(label, xmin, ymin, xmax, ymax)\n",
    "            img_region = img[ymin:ymax, xmin:xmax].copy()\n",
    "            show_image(img_region, size=(2,1))\n",
    "            cv2.imwrite('../images/raw_classify/{}_{}.jpg'.format(label, vehicles[label]), img_region)\n",
    "            \n",
    "        break # Do this if we need to train a classifier."
   ]
  },
  {
   "cell_type": "code",
   "execution_count": 27,
   "metadata": {},
   "outputs": [
    {
     "name": "stdout",
     "output_type": "stream",
     "text": [
      "car 486 295 509 315\n"
     ]
    },
    {
     "data": {
      "image/png": "[encoded data removed]",
      "text/plain": [
       "<Figure size 144x72 with 1 Axes>"
      ]
     },
     "metadata": {},
     "output_type": "display_data"
    },
    {
     "name": "stdout",
     "output_type": "stream",
     "text": [
      "car 421 239 429 246\n"
     ]
    },
    {
     "data": {
      "image/png": "[encoded data removed]",
      "text/plain": [
       "<Figure size 144x72 with 1 Axes>"
      ]
     },
     "metadata": {},
     "output_type": "display_data"
    },
    {
     "name": "stdout",
     "output_type": "stream",
     "text": [
      "car 411 232 419 239\n"
     ]
    },
    {
     "data": {
      "image/png": "[encoded data removed]",
      "text/plain": [
       "<Figure size 144x72 with 1 Axes>"
      ]
     },
     "metadata": {},
     "output_type": "display_data"
    },
    {
     "name": "stdout",
     "output_type": "stream",
     "text": [
      "car 401 228 406 233\n"
     ]
    },
    {
     "data": {
      "image/png": "[encoded data removed]",
      "text/plain": [
       "<Figure size 144x72 with 1 Axes>"
      ]
     },
     "metadata": {},
     "output_type": "display_data"
    },
    {
     "name": "stdout",
     "output_type": "stream",
     "text": [
      "car 305 236 318 246\n"
     ]
    },
    {
     "data": {
      "image/png": "[encoded data removed]",
      "text/plain": [
       "<Figure size 144x72 with 1 Axes>"
      ]
     },
     "metadata": {},
     "output_type": "display_data"
    }
   ],
   "source": [
    "createImagesFromBBOX()"
   ]
  },
  {
   "cell_type": "code",
   "execution_count": 28,
   "metadata": {},
   "outputs": [],
   "source": [
    "def getNumObjects(path='../images/raw/'):\n",
    "    num = 0\n",
    "    for f in getImagesOfInterest(path):\n",
    "        xml = '{}{}.xml'.format(path, f)\n",
    "        num += len(parseBBOXFile(xml))\n",
    "    return num"
   ]
  },
  {
   "cell_type": "code",
   "execution_count": 29,
   "metadata": {},
   "outputs": [
    {
     "data": {
      "text/plain": [
       "1441"
      ]
     },
     "execution_count": 29,
     "metadata": {},
     "output_type": "execute_result"
    }
   ],
   "source": [
    "getNumObjects()"
   ]
  },
  {
   "cell_type": "code",
   "execution_count": null,
   "metadata": {},
   "outputs": [],
   "source": []
  }
 ],
 "metadata": {
  "kernelspec": {
   "display_name": "Python 3",
   "language": "python",
   "name": "python3"
  },
  "language_info": {
   "codemirror_mode": {
    "name": "ipython",
    "version": 3
   },
   "file_extension": ".py",
   "mimetype": "text/x-python",
   "name": "python",
   "nbconvert_exporter": "python",
   "pygments_lexer": "ipython3",
   "version": "3.7.6"
  }
 },
 "nbformat": 4,
 "nbformat_minor": 5
}
